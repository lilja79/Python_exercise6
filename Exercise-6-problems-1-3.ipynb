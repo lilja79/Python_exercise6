{
 "cells": [
  {
   "cell_type": "markdown",
   "metadata": {
    "deletable": false,
    "editable": false,
    "nbgrader": {
     "cell_type": "markdown",
     "checksum": "fcf5a1bb8e68a79b3cc9e59d862ef98a",
     "grade": false,
     "grade_id": "cell-f2d00c67ecd9e7dc",
     "locked": true,
     "schema_version": 3,
     "solution": false
    }
   },
   "source": [
    "## Problem 1 - Reading in a tricky data file (*5 points*)\n",
    "\n",
    "You first task for this exercise is to read in the data file [data/1091402.txt](data/1091402.txt) to a variable called `data`. Please perform the tasks below by writing your code into the codeblocks in each section.\n",
    "\n",
    "**Notice**: Closely follow the instructions! For example, you should be sure to use **exactly** the same variable names mentioned in the instructions because your answers will be automatically graded, and the tests that grade your answers rely on following the same formatting or variable naming as in the instructions.\n",
    "\n",
    "**Your score on this problem will be based on following criteria:**\n",
    "\n",
    "- Reading the data into a variable called `data` with the Pandas function `read_csv()`\n",
    "    - Be sure the numerical values for rainfall and temperature are read in as numbers\n",
    "    - The second row of the datafile should be skipped, but the text labels for the columns should be from the first row\n",
    "    - The no-data values (assigned with value **`-9999`**) should properly be converted to `NaN`\n",
    "- Calculating a number of values from the data file used in this problem\n",
    "- Including comments that explain what most lines in the code do\n",
    "- Answering a couple questions at the end of the problem\n",
    "- Uploading your notebook to your GitHub repository for this week's exercise"
   ]
  },
  {
   "cell_type": "markdown",
   "metadata": {
    "deletable": false,
    "editable": false,
    "nbgrader": {
     "cell_type": "markdown",
     "checksum": "a30f7c561ea9cc87e2be014b4a313fc0",
     "grade": false,
     "grade_id": "cell-52cc9f4650eada57",
     "locked": true,
     "schema_version": 3,
     "solution": false
    }
   },
   "source": [
    "### Part 1 (*1.5 points*)\n",
    "\n",
    "You should start by reading the data file.\n",
    "\n",
    "- Read the data file into variable the variable `data`\n",
    "    - Skip the second row\n",
    "    - Convert the no-data values into `NaN` (values `-9999`)"
   ]
  },
  {
   "cell_type": "code",
   "execution_count": null,
   "metadata": {
    "deletable": false,
    "nbgrader": {
     "cell_type": "code",
     "checksum": "2eb13cbfbd5d8b8bc91a2bb6966a32d6",
     "grade": false,
     "grade_id": "read_file",
     "locked": false,
     "schema_version": 3,
     "solution": true
    }
   },
   "outputs": [],
   "source": [
    "data = None\n",
    "\n",
    "# REPLACE THE ERROR BELOW WITH YOUR OWN CODE\n",
    "raise NotImplementedError()"
   ]
  },
  {
   "cell_type": "code",
   "execution_count": null,
   "metadata": {
    "deletable": false,
    "editable": false,
    "nbgrader": {
     "cell_type": "code",
     "checksum": "0f4de7d3737c02be02d9a2f355ec7510",
     "grade": true,
     "grade_id": "problem_1_read_file_tests1",
     "locked": true,
     "points": 0.5,
     "schema_version": 3,
     "solution": false
    }
   },
   "outputs": [],
   "source": [
    "# This test print should print the head and the column names\n",
    "print(data.head(1))\n",
    "print(data.columns)\n"
   ]
  },
  {
   "cell_type": "code",
   "execution_count": null,
   "metadata": {
    "deletable": false,
    "editable": false,
    "nbgrader": {
     "cell_type": "code",
     "checksum": "04075757e33241790e38e2eaec42921f",
     "grade": true,
     "grade_id": "problem_1_read_file_tests2",
     "locked": true,
     "points": 0.5,
     "schema_version": 3,
     "solution": false
    }
   },
   "outputs": [],
   "source": [
    "# This test print should print the first row of data\n",
    "print(data.loc[0].values)\n"
   ]
  },
  {
   "cell_type": "code",
   "execution_count": null,
   "metadata": {
    "deletable": false,
    "editable": false,
    "nbgrader": {
     "cell_type": "code",
     "checksum": "339ce3b455cea77de81ed3db01cab614",
     "grade": true,
     "grade_id": "problem_1_read_file_tests3",
     "locked": true,
     "points": 0.5,
     "schema_version": 3,
     "solution": false
    }
   },
   "outputs": [],
   "source": [
    "# This test print should print the last row of data in column 'TMIN'\n",
    "print(data.tail(1)[['TMIN']].values[0][0])\n"
   ]
  },
  {
   "cell_type": "markdown",
   "metadata": {
    "deletable": false,
    "editable": false,
    "nbgrader": {
     "cell_type": "markdown",
     "checksum": "5c1cae04d06df542bc11570048e519d3",
     "grade": false,
     "grade_id": "cell-7f848d5f8acf3a0f",
     "locked": true,
     "schema_version": 3,
     "solution": false
    }
   },
   "source": [
    "### Part 2 (*0.5 points*)\n",
    "\n",
    "- Calculate how many no-data (NaN) values there are for the `TAVG` column\n",
    "    - Assign your answer to a variable called `tavg_nodata_count`."
   ]
  },
  {
   "cell_type": "code",
   "execution_count": null,
   "metadata": {
    "deletable": false,
    "nbgrader": {
     "cell_type": "code",
     "checksum": "96ce9838c749aca907288edea6c7f9c0",
     "grade": false,
     "grade_id": "tavg_nodata_count",
     "locked": false,
     "schema_version": 3,
     "solution": true
    }
   },
   "outputs": [],
   "source": [
    "tavg_nodata_count = None\n",
    "\n",
    "# REPLACE THE ERROR BELOW WITH YOUR OWN CODE\n",
    "raise NotImplementedError()"
   ]
  },
  {
   "cell_type": "code",
   "execution_count": null,
   "metadata": {
    "deletable": false,
    "editable": false,
    "nbgrader": {
     "cell_type": "code",
     "checksum": "4078fe61cfd822f3905ce04e522da13b",
     "grade": true,
     "grade_id": "problem_1_tavg_nodata_count_tests",
     "locked": true,
     "points": 0.5,
     "schema_version": 3,
     "solution": false
    }
   },
   "outputs": [],
   "source": [
    "# This test print should print a number\n",
    "print(tavg_nodata_count)\n"
   ]
  },
  {
   "cell_type": "markdown",
   "metadata": {
    "deletable": false,
    "editable": false,
    "nbgrader": {
     "cell_type": "markdown",
     "checksum": "ca4d15494b6e0fc30fc7d20bb0239185",
     "grade": false,
     "grade_id": "cell-600c96096b421522",
     "locked": true,
     "schema_version": 3,
     "solution": false
    }
   },
   "source": [
    "### Part 3 (*0.5 points*)\n",
    "\n",
    "- Calculate how many no-data (NaN) values there are for the `TMIN` column\n",
    "    - Assign your answer into a variable called `tmin_nodata_count`"
   ]
  },
  {
   "cell_type": "code",
   "execution_count": null,
   "metadata": {
    "deletable": false,
    "nbgrader": {
     "cell_type": "code",
     "checksum": "254f7010910093e73777e4c67d5f3c79",
     "grade": false,
     "grade_id": "tmin_nodata_count",
     "locked": false,
     "schema_version": 3,
     "solution": true
    }
   },
   "outputs": [],
   "source": [
    "tmin_nodata_count = None\n",
    "\n",
    "# REPLACE THE ERROR BELOW WITH YOUR OWN CODE\n",
    "raise NotImplementedError()"
   ]
  },
  {
   "cell_type": "code",
   "execution_count": null,
   "metadata": {
    "deletable": false,
    "editable": false,
    "nbgrader": {
     "cell_type": "code",
     "checksum": "360abf4928405bc5636825911994e6ba",
     "grade": true,
     "grade_id": "problem_1_tmin_nodata_count_tests",
     "locked": true,
     "points": 0.5,
     "schema_version": 3,
     "solution": false
    }
   },
   "outputs": [],
   "source": [
    "# This test print should print a number\n",
    "print(tmin_nodata_count)\n"
   ]
  },
  {
   "cell_type": "markdown",
   "metadata": {
    "deletable": false,
    "editable": false,
    "nbgrader": {
     "cell_type": "markdown",
     "checksum": "e31edbeb55a9238f8ca99c8cace2a918",
     "grade": false,
     "grade_id": "cell-25998b4f0d14e8f0",
     "locked": true,
     "schema_version": 3,
     "solution": false
    }
   },
   "source": [
    "### Part 4 (*0.5 points*)\n",
    "\n",
    "- Calculate the total number of days covered by this data file\n",
    "    - Assign your answer into a variable called `day_count`"
   ]
  },
  {
   "cell_type": "code",
   "execution_count": null,
   "metadata": {
    "deletable": false,
    "nbgrader": {
     "cell_type": "code",
     "checksum": "d97be7546a91640fb5c2bca57c6133a4",
     "grade": false,
     "grade_id": "day_count",
     "locked": false,
     "schema_version": 3,
     "solution": true
    }
   },
   "outputs": [],
   "source": [
    "day_count = None\n",
    "\n",
    "# REPLACE THE ERROR BELOW WITH YOUR OWN CODE\n",
    "raise NotImplementedError()"
   ]
  },
  {
   "cell_type": "code",
   "execution_count": null,
   "metadata": {
    "deletable": false,
    "editable": false,
    "nbgrader": {
     "cell_type": "code",
     "checksum": "0af8b4cd87b7467188fc2259637a68b1",
     "grade": true,
     "grade_id": "problem_1_day_count_tests",
     "locked": true,
     "points": 0.5,
     "schema_version": 3,
     "solution": false
    }
   },
   "outputs": [],
   "source": [
    "# This test print should print a number\n",
    "print(day_count)\n"
   ]
  },
  {
   "cell_type": "markdown",
   "metadata": {
    "deletable": false,
    "editable": false,
    "nbgrader": {
     "cell_type": "markdown",
     "checksum": "3a3bab3a2c1398932f13ed7020df53d9",
     "grade": false,
     "grade_id": "cell-424dcdef3dde1b89",
     "locked": true,
     "schema_version": 3,
     "solution": false
    }
   },
   "source": [
    "### Part 5 (*0.5 points*)\n",
    "\n",
    "- Find the date of the oldest (first) observation\n",
    "    - Assign your answer into a variable called `first_obs`"
   ]
  },
  {
   "cell_type": "code",
   "execution_count": null,
   "metadata": {
    "deletable": false,
    "nbgrader": {
     "cell_type": "code",
     "checksum": "c48bfb73083ec8471ddc11e753891cdb",
     "grade": false,
     "grade_id": "first_observation",
     "locked": false,
     "schema_version": 3,
     "solution": true
    }
   },
   "outputs": [],
   "source": [
    "first_obs = None\n",
    "\n",
    "# REPLACE THE ERROR BELOW WITH YOUR OWN CODE\n",
    "raise NotImplementedError()"
   ]
  },
  {
   "cell_type": "code",
   "execution_count": null,
   "metadata": {
    "deletable": false,
    "editable": false,
    "nbgrader": {
     "cell_type": "code",
     "checksum": "9ca88f99fe10ac8321c8cb1a61d717ee",
     "grade": true,
     "grade_id": "problem_1_first_observation_tests",
     "locked": true,
     "points": 0.5,
     "schema_version": 3,
     "solution": false
    }
   },
   "outputs": [],
   "source": [
    "# This test print should print a number\n",
    "print(first_obs)\n"
   ]
  },
  {
   "cell_type": "markdown",
   "metadata": {
    "deletable": false,
    "editable": false,
    "nbgrader": {
     "cell_type": "markdown",
     "checksum": "1659fd1d061a01216f6148c73c3bedd8",
     "grade": false,
     "grade_id": "cell-1a9a82e0f837ac34",
     "locked": true,
     "schema_version": 3,
     "solution": false
    }
   },
   "source": [
    "### Part 6 (*0.5 points*)\n",
    "\n",
    "- Find the date of the most recent (last) observation\n",
    "    - Assign your answer into a variable called `last_obs`"
   ]
  },
  {
   "cell_type": "code",
   "execution_count": null,
   "metadata": {
    "deletable": false,
    "nbgrader": {
     "cell_type": "code",
     "checksum": "0fc0671879ebfb3bfe7f1bf7eff5f8af",
     "grade": false,
     "grade_id": "last_observation",
     "locked": false,
     "schema_version": 3,
     "solution": true
    }
   },
   "outputs": [],
   "source": [
    "last_obs = None\n",
    "\n",
    "# REPLACE THE ERROR BELOW WITH YOUR OWN CODE\n",
    "raise NotImplementedError()"
   ]
  },
  {
   "cell_type": "code",
   "execution_count": null,
   "metadata": {
    "deletable": false,
    "editable": false,
    "nbgrader": {
     "cell_type": "code",
     "checksum": "22d9bb307b7c52cb5ea565761b43c487",
     "grade": true,
     "grade_id": "problem_1_last_observation_tests",
     "locked": true,
     "points": 0.5,
     "schema_version": 3,
     "solution": false
    }
   },
   "outputs": [],
   "source": [
    "# This test print should print a number\n",
    "print(last_obs)\n"
   ]
  },
  {
   "cell_type": "markdown",
   "metadata": {
    "deletable": false,
    "editable": false,
    "nbgrader": {
     "cell_type": "markdown",
     "checksum": "9453e29513f4c10ea7bf263b3eaa0c69",
     "grade": false,
     "grade_id": "cell-3fbd149c1e58a16c",
     "locked": true,
     "schema_version": 3,
     "solution": false
    }
   },
   "source": [
    "### Part 7 (*0.5 points*)\n",
    "\n",
    "- Find the average temperature for the whole data file (all observtions) from column `TAVG`\n",
    "    - Assign your answer into a variable called `avg_temp`"
   ]
  },
  {
   "cell_type": "code",
   "execution_count": null,
   "metadata": {
    "deletable": false,
    "nbgrader": {
     "cell_type": "code",
     "checksum": "a6b179b8b331f4b3d3c6458a838d679e",
     "grade": false,
     "grade_id": "avg_temp",
     "locked": false,
     "schema_version": 3,
     "solution": true
    }
   },
   "outputs": [],
   "source": [
    "avg_temp = None\n",
    "\n",
    "# REPLACE THE ERROR BELOW WITH YOUR OWN CODE\n",
    "raise NotImplementedError()"
   ]
  },
  {
   "cell_type": "code",
   "execution_count": null,
   "metadata": {
    "deletable": false,
    "editable": false,
    "nbgrader": {
     "cell_type": "code",
     "checksum": "02b4f5d0bb8387f3a1b6cb13c43f63ae",
     "grade": true,
     "grade_id": "problem_1_avg_temp_test",
     "locked": true,
     "points": 0.5,
     "schema_version": 3,
     "solution": false
    }
   },
   "outputs": [],
   "source": [
    "# This test print should print a number\n",
    "print(avg_temp)\n"
   ]
  },
  {
   "cell_type": "markdown",
   "metadata": {
    "deletable": false,
    "editable": false,
    "nbgrader": {
     "cell_type": "markdown",
     "checksum": "ee55e1b5246cd243449a9b8f52bd7a17",
     "grade": false,
     "grade_id": "cell-784617d6edc656a6",
     "locked": true,
     "schema_version": 3,
     "solution": false
    }
   },
   "source": [
    "### Part 8 (*0.5 points*)\n",
    "\n",
    "- Find the average `TMAX` temperature over the Summer of 1969 (months May, June, July, and August of the year 1969)\n",
    "    - Assign your answer into a variable called `avg_temp_1969`"
   ]
  },
  {
   "cell_type": "code",
   "execution_count": null,
   "metadata": {
    "deletable": false,
    "nbgrader": {
     "cell_type": "code",
     "checksum": "c2e57807029ffbd6deb4afbfd43d198b",
     "grade": false,
     "grade_id": "avg_temp_69",
     "locked": false,
     "schema_version": 3,
     "solution": true
    }
   },
   "outputs": [],
   "source": [
    "avg_temp_1969 = None\n",
    "\n",
    "# REPLACE THE ERROR BELOW WITH YOUR OWN CODE\n",
    "raise NotImplementedError()"
   ]
  },
  {
   "cell_type": "code",
   "execution_count": null,
   "metadata": {
    "deletable": false,
    "editable": false,
    "nbgrader": {
     "cell_type": "code",
     "checksum": "846c683e2485f6bf26433a8d0aeaf399",
     "grade": true,
     "grade_id": "problem_1_avg_temp_69_tests",
     "locked": true,
     "points": 0.5,
     "schema_version": 3,
     "solution": false
    }
   },
   "outputs": [],
   "source": [
    "# This test print should print a number\n",
    "print(avg_temp_1969)\n"
   ]
  },
  {
   "cell_type": "markdown",
   "metadata": {
    "deletable": false,
    "editable": false,
    "nbgrader": {
     "cell_type": "markdown",
     "checksum": "72df0db7f140e4ffb8b2fd28021696a1",
     "grade": false,
     "grade_id": "cell-beeb38c1b8d3eb13",
     "locked": true,
     "schema_version": 3,
     "solution": false
    }
   },
   "source": [
    "## Problem 2 - Calculating monthly average temperatures (*7.5 points*)\n",
    "\n",
    "For this problem your goal is to calculate monthly average temperatures in degrees Celsius from the daily values we have in the data file. You can use the approaches taught in Lessons 4, 5, and 6 to solve this.\n",
    "\n",
    "**You can continue working with the same data that you used in Problem 1.**\n",
    "\n",
    "**Notice**: Closely follow the instructions! For example, you should be sure to use **exactly** the same variable names mentioned in the instructions because your answers will be automatically graded, and the tests that grade your answers rely on following the same formatting or variable naming as in the instructions.\n",
    "\n",
    "**Your score on this problem will be based on following criteria:**\n",
    "\n",
    "- Calculating the monthly average temperatures for the each month in the dataset (i.e., for each month of each year) using the approach introduced in lesson this week\n",
    "    - You should store the monthly average temperatures in a new Pandas DataFrame called `monthly_data`\n",
    "- Creating a new column called `temp_celsius` in the `monthly_data` DataFrame that contains the monthly average temperatures in Celsius\n",
    "   - First store information about the date in a column called `DATE_m` (which should be a character string column containing the month and year info) along with the `TAVG` values in the `monthly_data` DataFrame\n",
    "   - After this, you can convert the `TAVG` values in Fahrenheit to Celsius\n",
    "- Including comments that explain what most lines in the code do\n",
    "- Answering a couple questions at the end of the problem\n",
    "- Uploading your notebook to your GitHub repository for this week's exercise"
   ]
  },
  {
   "cell_type": "code",
   "execution_count": null,
   "metadata": {
    "deletable": false,
    "nbgrader": {
     "cell_type": "code",
     "checksum": "e7a0d3c1fb193490ac0215b4adb19a2d",
     "grade": false,
     "grade_id": "monthly_averages",
     "locked": false,
     "schema_version": 3,
     "solution": true
    }
   },
   "outputs": [],
   "source": [
    "monthly_data = None\n",
    "\n",
    "# REPLACE THE ERROR BELOW WITH YOUR OWN CODE\n",
    "raise NotImplementedError()"
   ]
  },
  {
   "cell_type": "code",
   "execution_count": null,
   "metadata": {
    "deletable": false,
    "editable": false,
    "nbgrader": {
     "cell_type": "code",
     "checksum": "48f56d2077cb703b79d02557263e3962",
     "grade": true,
     "grade_id": "problem_2_monthly_averages_test1",
     "locked": true,
     "points": 1.5,
     "schema_version": 3,
     "solution": false
    }
   },
   "outputs": [],
   "source": [
    "# This test print should print the length of variable monthly_data\n",
    "print(len(monthly_data))\n"
   ]
  },
  {
   "cell_type": "code",
   "execution_count": null,
   "metadata": {
    "deletable": false,
    "editable": false,
    "nbgrader": {
     "cell_type": "code",
     "checksum": "2463d4ed62ab38769e165c72a08394da",
     "grade": true,
     "grade_id": "problem_2_monthly_averages_test2",
     "locked": true,
     "points": 2,
     "schema_version": 3,
     "solution": false
    }
   },
   "outputs": [],
   "source": [
    "# This test print should print the column names of monthly_data\n",
    "print(monthly_data.columns)\n"
   ]
  },
  {
   "cell_type": "code",
   "execution_count": null,
   "metadata": {
    "deletable": false,
    "editable": false,
    "nbgrader": {
     "cell_type": "code",
     "checksum": "47546e9bc7bf7625590e9f092aaad896",
     "grade": true,
     "grade_id": "problem_2_monthly_averages_test3",
     "locked": true,
     "points": 2,
     "schema_version": 3,
     "solution": false
    }
   },
   "outputs": [],
   "source": [
    "# This test print should print the mean of temp_celsius\n",
    "print(monthly_data['temp_celsius'].mean())\n"
   ]
  },
  {
   "cell_type": "code",
   "execution_count": null,
   "metadata": {
    "deletable": false,
    "editable": false,
    "nbgrader": {
     "cell_type": "code",
     "checksum": "2ebed8cb97935b500f6ad87ecac43970",
     "grade": true,
     "grade_id": "problem_2_monthly_averages_test4",
     "locked": true,
     "points": 2,
     "schema_version": 3,
     "solution": false
    }
   },
   "outputs": [],
   "source": [
    "# This test print should print the median of temp_celsius\n",
    "print(monthly_data['temp_celsius'].median())\n"
   ]
  },
  {
   "cell_type": "markdown",
   "metadata": {
    "deletable": false,
    "editable": false,
    "nbgrader": {
     "cell_type": "markdown",
     "checksum": "c1084f701fbfb3db9735a8d8979cac97",
     "grade": false,
     "grade_id": "cell-ccd31e45c30df3ec",
     "locked": true,
     "schema_version": 3,
     "solution": false
    }
   },
   "source": [
    "## Problem 3 - Calculating temperature anomalies (*7.5 points*)\n",
    "\n",
    "Our goal in this problem is to calculate monthly temperature anomalies in order to see how temperatures have changed over time, relative to the observation period between 1952-1980.\n",
    "\n",
    "**You can continue working with the same data that you used in Problem 1.**\n",
    "\n",
    "**Notice**: Closely follow the instructions! For example, you should be sure to use **exactly** the same variable names mentioned in the instructions because your answers will be automatically graded, and the tests that grade your answers rely on following the same formatting or variable naming as in the instructions.\n",
    "\n",
    "**Your score on this problem will be based on following criteria:**\n",
    "\n",
    "- Calculating a mean temperature ***for each month*** over the period from 1952 up to and including 1980 using the data in the data file\n",
    "    - You should end up with 12 values, 1 mean temperature for each month in that period, and store them in a new Pandas DataFrame called `reference_temps`\n",
    "    - The columns in the new DataFrame should be titled `Month` and `ref_temp`\n",
    "    \n",
    "    For example, your `reference_temps` data should be something like that below, 1 value for each month of the year (12 total) and remember these temperatures should be in degrees Celsius:\n",
    "   \n",
    "| Month    | ref_temp         |\n",
    "|----------|------------------|\n",
    "| 01       | -5.838761        |\n",
    "| 02       | -7.064088        |\n",
    "| 03       | -3.874213        |\n",
    "| ...      | ...              |\n",
    "\n",
    "- Calculating a temperature anomaly for every month in the `monthly_data` DataFrame using the corresponding monthly average temperature for each of the 12 months\n",
    "    - The temperature anomaly we want to calculate is simply the temperature for a given month in `monthly_data` (`temp_celsius` column) minus the corresponding monthly reference temperature in the `ref_temp` column of the `reference_temps` DataFrame\n",
    "        - Hint: You need to make a table join (see [hints for this week](https://geo-python.github.io/site/lessons/L5/exercise-6.html))\n",
    "    - You should thus end up with three new columns in the `monthly_data` DataFrame: \n",
    "        1. `Diff`: The temperature anomaly, the difference in temperature for a given month (e.g., February 1960) compared to the average during the reference period (e.g., for February 1952-1980), \n",
    "        2. `Month`: The month\n",
    "        3. `ref_temp`: The monthly reference temperature\n",
    "- Including comments that explain what most lines in the code do\n",
    "- Answering a couple questions at the end of the problem\n",
    "- Uploading your notebook to your GitHub repository for this week's exercise"
   ]
  },
  {
   "cell_type": "code",
   "execution_count": null,
   "metadata": {
    "deletable": false,
    "nbgrader": {
     "cell_type": "code",
     "checksum": "2e616ad2b2168884688db05b6ea94552",
     "grade": false,
     "grade_id": "temperature_anomaly",
     "locked": false,
     "schema_version": 3,
     "solution": true
    }
   },
   "outputs": [],
   "source": [
    "# REPLACE THE ERROR BELOW WITH YOUR OWN CODE\n",
    "raise NotImplementedError()"
   ]
  },
  {
   "cell_type": "code",
   "execution_count": null,
   "metadata": {
    "deletable": false,
    "editable": false,
    "nbgrader": {
     "cell_type": "code",
     "checksum": "57bd3cb96adfe39737db87cd8b006862",
     "grade": true,
     "grade_id": "problem_3_temperature_anomaly_test1",
     "locked": true,
     "points": 1.5,
     "schema_version": 3,
     "solution": false
    }
   },
   "outputs": [],
   "source": [
    "# Let's confirm that we have the data\n",
    "print(monthly_data.head())\n"
   ]
  },
  {
   "cell_type": "code",
   "execution_count": null,
   "metadata": {
    "deletable": false,
    "editable": false,
    "nbgrader": {
     "cell_type": "code",
     "checksum": "12af694f29ff8695b539b4ae9e96c278",
     "grade": true,
     "grade_id": "problem_3_temperature_anomaly_test2",
     "locked": true,
     "points": 1.5,
     "schema_version": 3,
     "solution": false
    }
   },
   "outputs": [],
   "source": [
    "# This test print should print the length of the result\n",
    "print(len(monthly_data))\n"
   ]
  },
  {
   "cell_type": "code",
   "execution_count": null,
   "metadata": {
    "deletable": false,
    "editable": false,
    "nbgrader": {
     "cell_type": "code",
     "checksum": "62ffc036d98c975f35d662cc608b0d1d",
     "grade": true,
     "grade_id": "problem_3_temperature_anomaly_test3",
     "locked": true,
     "points": 1.5,
     "schema_version": 3,
     "solution": false
    }
   },
   "outputs": [],
   "source": [
    "# This test print should print the mean difference value\n",
    "print(monthly_data['Diff'].mean())\n"
   ]
  },
  {
   "cell_type": "code",
   "execution_count": null,
   "metadata": {
    "deletable": false,
    "editable": false,
    "nbgrader": {
     "cell_type": "code",
     "checksum": "185256225e1bce22ccb32712e0727fcc",
     "grade": true,
     "grade_id": "problem_3_temperature_anomaly_test4",
     "locked": true,
     "points": 1.5,
     "schema_version": 3,
     "solution": false
    }
   },
   "outputs": [],
   "source": [
    "# This test print should print the minimum difference value\n",
    "print(monthly_data['Diff'].min())\n"
   ]
  },
  {
   "cell_type": "code",
   "execution_count": null,
   "metadata": {
    "deletable": false,
    "editable": false,
    "nbgrader": {
     "cell_type": "code",
     "checksum": "fcbe8fdad93a2d287b9cf859192f8f9f",
     "grade": true,
     "grade_id": "problem_3_temperature_anomaly_test5",
     "locked": true,
     "points": 1.5,
     "schema_version": 3,
     "solution": false
    }
   },
   "outputs": [],
   "source": [
    "# This test print should print the maximum difference value\n",
    "print(monthly_data['Diff'].max())\n"
   ]
  },
  {
   "cell_type": "markdown",
   "metadata": {
    "deletable": false,
    "editable": false,
    "nbgrader": {
     "cell_type": "markdown",
     "checksum": "05d75271b13f8fd543895353efb8b61c",
     "grade": false,
     "grade_id": "cell-99d62d1b7e475fd6",
     "locked": true,
     "schema_version": 3,
     "solution": false
    }
   },
   "source": [
    "### On to Problem 4 (*optional*)\n",
    "\n",
    "Now you can continue to the *optional* [Problem 4](Exercise-6-problem-4.ipynb)"
   ]
  }
 ],
 "metadata": {
  "kernelspec": {
   "display_name": "Python 3",
   "language": "python",
   "name": "python3"
  },
  "language_info": {
   "codemirror_mode": {
    "name": "ipython",
    "version": 3
   },
   "file_extension": ".py",
   "mimetype": "text/x-python",
   "name": "python",
   "nbconvert_exporter": "python",
   "pygments_lexer": "ipython3",
   "version": "3.7.4"
  }
 },
 "nbformat": 4,
 "nbformat_minor": 2
}
