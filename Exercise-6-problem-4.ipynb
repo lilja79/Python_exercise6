{
 "cells": [
  {
   "cell_type": "markdown",
   "metadata": {
    "deletable": false,
    "editable": false,
    "nbgrader": {
     "cell_type": "markdown",
     "checksum": "33ccf1ebc6b9b03359b697c03c0878fc",
     "grade": false,
     "grade_id": "cell-bc924b1ba40193e7",
     "locked": true,
     "schema_version": 3,
     "solution": false
    }
   },
   "source": [
    "# Problem 4 (optional)\n",
    "\n",
    "This is an optional task for more advanced students. \n",
    "\n",
    "## What to do\n",
    "\n",
    "1. Start by downloading your own data (daily summaries for years **1959-2018 August**) for **Sodankyla Lokka** (notice the place name should be without `ä` letter), from the [NOAA Climate Data Online Search](https://www.ncdc.noaa.gov/cdo-web/search?datasetid=GHCND). Make sure to click on starting day (and ending day) in the date selection panel after changing year! After you have searched, click “Add to cart” for a selected station, then go to cart. Select the ``Custom GHCN-Daily Text`` format for the resulting output file and hit continue.\n",
    "\n",
    "    - From the `Station Detail & Data Flag Options` choose two of the following attributes: Station Name, Geographic Location. **Notice:** Do **NOT** include data flags because it makes the data difficult to read. Use **Standard** units.\n",
    "    - Take also Precipitation and Temperature which are under a separate button below. \n",
    "    - From the next page, add your own email address where the weather data will be sent after a short moment.\n",
    "\n",
    "2. After you have downloaded the data. you should first,\n",
    "\n",
    "    - Calculate the average temperature using columns `TMAX` and `TMIN` and insert those values into a new column called `TAVG`.\n",
    "\n",
    "3. Next, you should use the approaches learned during this week and used in Problem 3 to answer / do the following:\n",
    "\n",
    "    - Calculate the temperature anomalies in Sodankyla, i.e. the difference between `reference_temps` and the average temperature for each month (see Problem 3).\n",
    "    - Calculate the monthly temperature differences between Sodankyla and Helsinki stations\n",
    "        - How different are the summer temperatures (June, July, August) between Helsinki (used in Problems 1-3) and Sodankyla station?\n",
    "        - What were the summer mean temperatures for both of these stations?\n",
    "        - What were the summer standard deviations for both of these stations?\n",
    "    - Calculate the monthly differences in a DataFrame and save it (as `CSV` file) into your own Exercise repository for this week\n",
    "4. Upload your script and data to GitHub"
   ]
  }
 ],
 "metadata": {
  "kernelspec": {
   "display_name": "Python 3",
   "language": "python",
   "name": "python3"
  },
  "language_info": {
   "codemirror_mode": {
    "name": "ipython",
    "version": 3
   },
   "file_extension": ".py",
   "mimetype": "text/x-python",
   "name": "python",
   "nbconvert_exporter": "python",
   "pygments_lexer": "ipython3",
   "version": "3.7.4"
  }
 },
 "nbformat": 4,
 "nbformat_minor": 2
}
